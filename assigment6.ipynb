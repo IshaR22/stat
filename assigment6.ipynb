{
 "cells": [
  {
   "cell_type": "code",
   "execution_count": null,
   "id": "8e2d7ede-b715-4da5-862b-42a8bf81e6bf",
   "metadata": {},
   "outputs": [],
   "source": [
    "Q1. Calculate the 95% confidence interval for a sample of data with a mean of 50 and a standard deviation\n",
    "of 5 using Python. Interpret the results."
   ]
  },
  {
   "cell_type": "code",
   "execution_count": 2,
   "id": "e3bf4490-878c-47c5-9a5e-fbea44989883",
   "metadata": {},
   "outputs": [
    {
     "name": "stdout",
     "output_type": "stream",
     "text": [
      "95% Confidence Interval: (48.21077297881646, 51.78922702118354)\n"
     ]
    }
   ],
   "source": [
    "import math\n",
    "n=30\n",
    "sample_mean = 50\n",
    "sample_std_dev = 5\n",
    "confidence_level = 0.95\n",
    "z = 1.96\n",
    "standard_error = sample_std_dev / math.sqrt(n)\n",
    "lower_bound = sample_mean - z * standard_error\n",
    "upper_bound = sample_mean + z * standard_error\n",
    "print(f\"95% Confidence Interval: ({lower_bound}, {upper_bound})\")"
   ]
  },
  {
   "cell_type": "code",
   "execution_count": null,
   "id": "09ea3a58-a3a3-43dc-ab7c-c216f0b21962",
   "metadata": {},
   "outputs": [],
   "source": [
    "Q2. Conduct a chi-square goodness of fit test to determine if the distribution of colors of M&Ms in a bag\n",
    "matches the expected distribution of 20% blue, 20% orange, 20% green, 10% yellow, 10% red, and 20%\n",
    "brown. Use Python to perform the test with a significance level of 0.05."
   ]
  },
  {
   "cell_type": "code",
   "execution_count": 23,
   "id": "27186173-c358-4d10-93e0-db68750041f6",
   "metadata": {},
   "outputs": [
    {
     "name": "stdout",
     "output_type": "stream",
     "text": [
      "Chi-square Statistic: 2.9499999999999997\n",
      "P-value: 0.7076943125481852\n",
      "Fail to reject null hypothesis: The observed distribution of M&M colors matches the expected distribution.\n"
     ]
    }
   ],
   "source": [
    "import numpy as np\n",
    "import scipy.stats as stat\n",
    "observed = np.array([18, 22, 15, 12, 13, 20])\n",
    "total_count = np.sum(observed)\n",
    "expected = np.array([0.20, 0.20, 0.20, 0.10, 0.10, 0.20]) * total_count\n",
    "chi2, p = stat.chisquare(observed,expected)\n",
    "print(f\"Chi-square Statistic: {chi2}\")\n",
    "print(f\"P-value: {p}\")\n",
    "alpha = 0.05\n",
    "if p < alpha:\n",
    "    print(\"Reject null hypothesis: The observed distribution of M&M colors does not match the expected distribution.\")\n",
    "else:\n",
    "    print(\"Fail to reject null hypothesis: The observed distribution of M&M colors matches the expected distribution.\")\n"
   ]
  },
  {
   "cell_type": "code",
   "execution_count": null,
   "id": "6a6e06c0-7d83-4edd-aa08-04b20b4cad6c",
   "metadata": {},
   "outputs": [],
   "source": [
    "Q3. Use Python to calculate the chi-square statistic and p-value for a contingency table with the following\n",
    "data:\n",
    "Interpret the results of the test."
   ]
  },
  {
   "cell_type": "code",
   "execution_count": 11,
   "id": "3f39eb11-3c30-4c05-9dad-b001b80f97d6",
   "metadata": {},
   "outputs": [],
   "source": [
    "import scipy.stats as stat\n",
    "import numpy as np\n",
    "outcome1=[20,15]\n",
    "outcome2=[15,20]\n",
    "outcome3=[10,25]\n",
    "## Chi-Square Goodness Of Fit Test\n",
    "chisquare_test_statistic,p_value=stat.chisquare(outcome1,outcome2,outcome3)"
   ]
  },
  {
   "cell_type": "code",
   "execution_count": 12,
   "id": "3320145b-cca2-44dc-891f-74c510116fb8",
   "metadata": {},
   "outputs": [
    {
     "data": {
      "text/plain": [
       "(2.916666666666667, array([nan, nan]))"
      ]
     },
     "execution_count": 12,
     "metadata": {},
     "output_type": "execute_result"
    }
   ],
   "source": [
    "chisquare_test_statistic,p_value"
   ]
  },
  {
   "cell_type": "code",
   "execution_count": null,
   "id": "b07dfc21-9ca7-49da-9652-4d5a18211c2a",
   "metadata": {},
   "outputs": [],
   "source": [
    "Q4. A study of the prevalence of smoking in a population of 500 individuals found that 60 individuals\n",
    "smoked. Use Python to calculate the 95% confidence interval for the true proportion of individuals in the\n",
    "population who smoke."
   ]
  },
  {
   "cell_type": "code",
   "execution_count": 13,
   "id": "5e18c7a0-8717-48b5-b437-101b62e85d8e",
   "metadata": {},
   "outputs": [
    {
     "name": "stdout",
     "output_type": "stream",
     "text": [
      "95% Confidence Interval for the true proportion of smokers: (0.09151586546865079, 0.1484841345313492)\n"
     ]
    }
   ],
   "source": [
    "import math\n",
    "n = 500  \n",
    "x = 60      \n",
    "p_hat = x / n\n",
    "confidence_level = 0.95\n",
    "z = 1.96\n",
    "standard_error = math.sqrt((p_hat * (1 - p_hat)) / n)\n",
    "lower_bound = p_hat - z * standard_error\n",
    "upper_bound = p_hat + z * standard_error\n",
    "print(f\"95% Confidence Interval for the true proportion of smokers: ({lower_bound}, {upper_bound})\")"
   ]
  },
  {
   "cell_type": "code",
   "execution_count": null,
   "id": "a815e918-db22-4267-8f10-168bc11f2fe6",
   "metadata": {},
   "outputs": [],
   "source": [
    "Q5. Calculate the 90% confidence interval for a sample of data with a mean of 75 and a standard deviation\n",
    "of 12 using Python. Interpret the results."
   ]
  },
  {
   "cell_type": "code",
   "execution_count": 14,
   "id": "228a8f80-5076-458b-99ba-cb706fc930f3",
   "metadata": {},
   "outputs": [
    {
     "name": "stdout",
     "output_type": "stream",
     "text": [
      "95% Confidence Interval: (46.396306258897965, 53.603693741102035)\n"
     ]
    }
   ],
   "source": [
    "import math\n",
    "from scipy.stats import norm\n",
    "mean=75\n",
    "std=12\n",
    "n=30\n",
    "z = 1.64\n",
    "confidence_level = 0.90\n",
    "z = norm.ppf(1 - (1 - confidence_level) / 2)\n",
    "standard_error = std / math.sqrt(n)\n",
    "lower_bound = sample_mean - z * standard_error\n",
    "upper_bound = sample_mean + z * standard_error\n",
    "print(f\"95% Confidence Interval: ({lower_bound}, {upper_bound})\")"
   ]
  },
  {
   "cell_type": "code",
   "execution_count": null,
   "id": "8e5844e3-7ba2-467c-a397-caf4ac5df45e",
   "metadata": {},
   "outputs": [],
   "source": [
    "Q6. Use Python to plot the chi-square distribution with 10 degrees of freedom. Label the axes and shade the\n",
    "area corresponding to a chi-square statistic"
   ]
  },
  {
   "cell_type": "code",
   "execution_count": null,
   "id": "9a637fb8-7b3e-4046-becd-122e5b934453",
   "metadata": {},
   "outputs": [],
   "source": [
    "import numpy as np\n",
    "import matplotlib.pyplot as plt\n",
    "from scipy.stats import chi2\n",
    "df = 10\n",
    "x=[8,6,7,9,6,9,7]\n",
    "chi_squared = chi2.pdf(x, df)\n",
    "plt.figure(figsize=(8, 5))\n",
    "plt.plot(x, chi_squared, label=f'Chi-square Distribution (df={df})')\n",
    "chi2_stat = 15\n",
    "plt.fill_between(x, 0, chi2.pdf(x, df), where=(x >= chi2_stat), color='blue', alpha=0.3, label=f'Chi-square statistic={chi2_stat:.1f}')\n",
    "plt.title('Chi-square Distribution')\n",
    "plt.xlabel('Chi-square Value')\n",
    "plt.ylabel('Probability Density Function')\n",
    "plt.legend()\n",
    "plt.grid(True)\n"
   ]
  },
  {
   "cell_type": "code",
   "execution_count": null,
   "id": "136f8cf5-47e3-4253-9076-71ed2e4242f5",
   "metadata": {},
   "outputs": [],
   "source": [
    "Q7. A random sample of 1000 people was asked if they preferred Coke or Pepsi. Of the sample, 520\n",
    "preferred Coke. Calculate a 99% confidence interval for the true proportion of people in the population who\n",
    "prefer Coke."
   ]
  },
  {
   "cell_type": "code",
   "execution_count": 15,
   "id": "505c590b-f6fd-4ec6-9388-382748f553dc",
   "metadata": {},
   "outputs": [
    {
     "name": "stdout",
     "output_type": "stream",
     "text": [
      "99% Confidence Interval for the true proportion of people who prefer Coke: (0.4793051576779699, 0.5606948423220302)\n"
     ]
    }
   ],
   "source": [
    "import math\n",
    "from scipy.stats import norm\n",
    "n = 1000  \n",
    "prefer_coke = 520  \n",
    "p_hat = prefer_coke / n  \n",
    "confidence_level = 0.99\n",
    "alpha=1-0.99\n",
    "z = norm.ppf(1 - (1 - confidence_level) / 2)\n",
    "standard_error = math.sqrt((p_hat * (1 - p_hat)) / n)\n",
    "lower_bound = p_hat - z * standard_error\n",
    "upper_bound = p_hat + z * standard_error\n",
    "\n",
    "print(f\"99% Confidence Interval for the true proportion of people who prefer Coke: ({lower_bound}, {upper_bound})\")\n"
   ]
  },
  {
   "cell_type": "code",
   "execution_count": null,
   "id": "00d44d31-740b-4cec-8f5b-9e94557551be",
   "metadata": {},
   "outputs": [],
   "source": [
    "Q8. A researcher hypothesizes that a coin is biased towards tails. They flip the coin 100 times and observe\n",
    "45 tails. Conduct a chi-square goodness of fit test to determine if the observed frequencies match the\n",
    "expected frequencies of a fair coin. Use a significance level of 0.05."
   ]
  },
  {
   "cell_type": "code",
   "execution_count": 18,
   "id": "1afe71ee-39d7-4fa4-945f-a3d98d564866",
   "metadata": {},
   "outputs": [
    {
     "name": "stdout",
     "output_type": "stream",
     "text": [
      "Chi-square Statistic: 1.0\n",
      "Critical Value: 3.841458820694124\n",
      "Fail to reject null hypothesis: The coin is likely fair.\n"
     ]
    }
   ],
   "source": [
    "import numpy as np\n",
    "from scipy.stats import chi2\n",
    "observed_tails = 45\n",
    "observed_heads=55\n",
    "expected_tails = 50\n",
    "expected_heads = 50\n",
    "observed_frequencies = np.array([observed_heads, observed_tails])\n",
    "expected_frequencies = np.array([expected_heads, expected_tails])\n",
    "chi_squared_stat = np.sum((observed_frequencies - expected_frequencies)**2 / expected_frequencies)\n",
    "critical_value = chi2.ppf(0.95, df=1)  \n",
    "print(f\"Chi-square Statistic: {chi_squared_stat}\")\n",
    "print(f\"Critical Value: {critical_value}\")\n",
    "\n",
    "if chi_squared_stat > critical_value:\n",
    "    print(\"Reject null hypothesis: The coin is biased towards tails.\")\n",
    "else:\n",
    "    print(\"Fail to reject null hypothesis: The coin is likely fair.\")\n"
   ]
  },
  {
   "cell_type": "code",
   "execution_count": null,
   "id": "f2183a37-a14c-4641-aeca-cb71dc0b75a9",
   "metadata": {},
   "outputs": [],
   "source": [
    "Q9. A study was conducted to determine if there is an association between smoking status (smoker or\n",
    "non-smoker) and lung cancer diagnosis (yes or no). The results are shown in the contingency table below.\n",
    "Conduct a chi-square test for independence to determine if there is a significant association between\n",
    "smoking status and lung cancer diagnosis."
   ]
  },
  {
   "cell_type": "code",
   "execution_count": 20,
   "id": "3ab9a253-f1e4-4048-aff5-8456fa87c80f",
   "metadata": {},
   "outputs": [
    {
     "name": "stdout",
     "output_type": "stream",
     "text": [
      "Reject null hypothesis: There is a significant association between smoking status and lung cancer diagnosis.\n"
     ]
    }
   ],
   "source": [
    "observed= np.array([60,140])\n",
    "expected= np.array([30,170])  \n",
    "chisquare_test_statistic,p=stat.chisquare(observed,expected)\n",
    "alpha = 0.05\n",
    "if p < alpha:\n",
    "    print(\"Reject null hypothesis: There is a significant association between smoking status and lung cancer diagnosis.\")\n",
    "else:\n",
    "    print(\"Fail to reject null hypothesis: There is no significant association between smoking status and lung cancer diagnosis.\")\n"
   ]
  },
  {
   "cell_type": "code",
   "execution_count": null,
   "id": "b397c724-13a0-4427-8683-75a2039639d0",
   "metadata": {},
   "outputs": [],
   "source": [
    "Q11. A random sample of 30 people was selected from a population with an unknown mean and standard\n",
    "deviation. The sample mean was found to be 72 and the sample standard deviation was found to be 10.\n",
    "Conduct a hypothesis test to determine if the population mean is significantly different from 70. Use a\n",
    "significance level of 0.05."
   ]
  },
  {
   "cell_type": "code",
   "execution_count": null,
   "id": "870c94da-1516-4439-b09a-fa55eceadf7b",
   "metadata": {},
   "outputs": [],
   "source": [
    "n=30\n",
    "mean=72\n",
    "std=10\n",
    "h0:the population mean = 70\n",
    "h1:the population mean is significantly different from 70\n",
    "sig=0.05\n",
    "df=29\n",
    "critical_value=stat.chi2.ppf(1-sig,df)\n",
    "if chisquare_test_statistic > critical_value:\n",
    "    print(\"Reject the null hypothesis\")\n",
    "else:\n",
    "    print(\"Accept the null hypothesis\")"
   ]
  }
 ],
 "metadata": {
  "kernelspec": {
   "display_name": "Python 3 (ipykernel)",
   "language": "python",
   "name": "python3"
  },
  "language_info": {
   "codemirror_mode": {
    "name": "ipython",
    "version": 3
   },
   "file_extension": ".py",
   "mimetype": "text/x-python",
   "name": "python",
   "nbconvert_exporter": "python",
   "pygments_lexer": "ipython3",
   "version": "3.10.8"
  }
 },
 "nbformat": 4,
 "nbformat_minor": 5
}
